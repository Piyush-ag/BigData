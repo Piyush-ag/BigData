{
  "cells": [
    {
      "cell_type": "code",
      "execution_count": null,
      "metadata": {
        "id": "qd1yCZyQiy2x"
      },
      "outputs": [],
      "source": [
        "from pyspark import SparkConf\n",
        "from pyspark.context import SparkContext\n",
        "sc = SparkContext.getOrCreate(SparkConf().setMaster(\"local[*]\"))"
      ]
    },
    {
      "cell_type": "code",
      "execution_count": null,
      "metadata": {
        "colab": {
          "base_uri": "https://localhost:8080/"
        },
        "id": "h60uULFCjRYD",
        "outputId": "15a82484-195a-422b-fb25-d9629a7a5601"
      },
      "outputs": [
        {
          "name": "stdout",
          "output_type": "stream",
          "text": [
            "Drive already mounted at /content/drive; to attempt to forcibly remount, call drive.mount(\"/content/drive\", force_remount=True).\n"
          ]
        }
      ],
      "source": [
        "from google.colab import drive\n",
        "drive.mount('/content/drive')"
      ]
    },
    {
      "cell_type": "code",
      "execution_count": null,
      "metadata": {
        "id": "YPjzVN5Akh1n"
      },
      "outputs": [],
      "source": [
        "\n",
        "#create RDD from a text file\n",
        "text_file = sc.textFile(\"/content/drive/MyDrive/pg1342.txt\")\n",
        "#1st line split line into words\n",
        "#2nd line map word to (word,1)\n",
        "#3rd line reduce values to summation\n",
        "counts = text_file.flatMap(lambda line: line.split(\" \")) \\\n",
        ".map(lambda word: (word, 1)) \\\n",
        ".reduceByKey(lambda a, b: a + b)"
      ]
    },
    {
      "cell_type": "code",
      "execution_count": null,
      "metadata": {
        "id": "qAPfgC_qlDiD"
      },
      "outputs": [],
      "source": [
        "#write output to a text file\n",
        "#and output file must not exist!\n",
        "counts.saveAsTextFile(\"/content/output\")"
      ]
    },
    {
      "cell_type": "code",
      "execution_count": null,
      "metadata": {
        "id": "WMjapj5HlQW1"
      },
      "outputs": [],
      "source": [
        "from pyspark.sql import SparkSession\n",
        "spark = SparkSession.builder.appName(\"SpamDetector\").getOrCreate()"
      ]
    },
    {
      "cell_type": "code",
      "execution_count": null,
      "metadata": {
        "id": "cYgcyMp3lZhl"
      },
      "outputs": [],
      "source": [
        "# Import ml package since we will use ML models\n",
        "from pyspark.ml.classification import LogisticRegression\n",
        "from pyspark.ml.evaluation import BinaryClassificationEvaluator\n",
        "from pyspark.ml.feature import Tokenizer, HashingTF\n",
        "from pyspark.ml import Pipeline\n",
        "from pyspark.sql.functions import lit\n",
        "# Training: load spam and ham examples\n",
        "spam_df = spark.read.text(\"/content/drive/MyDrive/spam.txt\")\n",
        "ham_df = spark.read.text(\"/content/drive/MyDrive/ham.txt\")"
      ]
    },
    {
      "cell_type": "code",
      "execution_count": null,
      "metadata": {
        "id": "-g0lxh27ln5I"
      },
      "outputs": [],
      "source": [
        "# Label spam columns with value 1, ham columns with value 0\n",
        "spam_df = spam_df.withColumn(\"label\", lit(1))\n",
        "ham_df = ham_df.withColumn(\"label\", lit(0))"
      ]
    },
    {
      "cell_type": "code",
      "execution_count": null,
      "metadata": {
        "id": "G0GcZIV2lpuW"
      },
      "outputs": [],
      "source": [
        "# Combine the spam and ham datasets into a single dataset\n",
        "combined_df = spam_df.union(ham_df)"
      ]
    },
    {
      "cell_type": "code",
      "execution_count": null,
      "metadata": {
        "id": "2nTd5yhYltMX"
      },
      "outputs": [],
      "source": [
        "# Create a ML pipeline\n",
        "tokenizer = Tokenizer(inputCol=\"value\", outputCol=\"words\")\n",
        "hashingTF = HashingTF(inputCol=\"words\", outputCol=\"features\")\n",
        "lr = LogisticRegression(featuresCol=\"features\", labelCol=\"label\")\n",
        "pipeline = Pipeline(stages=[tokenizer, hashingTF, lr])"
      ]
    },
    {
      "cell_type": "code",
      "execution_count": null,
      "metadata": {
        "colab": {
          "base_uri": "https://localhost:8080/"
        },
        "id": "lGZbf3BNlvLc",
        "outputId": "b14a81b5-1c4f-4cc0-c588-c2fbf0572ec6"
      },
      "outputs": [
        {
          "name": "stdout",
          "output_type": "stream",
          "text": [
            "Training Data Count: 1429\n",
            "Testing Data Count: 71\n"
          ]
        }
      ],
      "source": [
        "# Split data into training and testing sets\n",
        "(trainingData, testData) = combined_df.randomSplit([0.95, 0.05], seed=100)\n",
        "print(f\"Training Data Count: {trainingData.count()}\")\n",
        "print(f\"Testing Data Count: {testData.count()}\")"
      ]
    },
    {
      "cell_type": "code",
      "execution_count": null,
      "metadata": {
        "colab": {
          "base_uri": "https://localhost:8080/"
        },
        "id": "eFRN8gjBlzhl",
        "outputId": "093d7fc0-5ef3-4836-eb38-8299de5fb560"
      },
      "outputs": [
        {
          "name": "stdout",
          "output_type": "stream",
          "text": [
            "Accuracy: 0.9912559618441971\n",
            "+-----------------------------------------------------------------------------------------------------------------------------------------------------------------------------------------------------------------------------+-----+----------+\n",
            "|value                                                                                                                                                                                                                        |label|prediction|\n",
            "+-----------------------------------------------------------------------------------------------------------------------------------------------------------------------------------------------------------------------------+-----+----------+\n",
            "|18 days to Euro2004 kickoff! U will be kept informed of all the latest news and results daily. Unsubscribe send GET EURO STOP to 83222.                                                                                      |1    |1.0       |\n",
            "|<Forwarded from 21870000>Hi - this is your Mailbox Messaging SMS alert. You have 4 messages. You have 21 matches. Please call back on 09056242159 to retrieve your messages and matches                                      |1    |1.0       |\n",
            "|Camera - You are awarded a SiPix Digital Camera! call 09061221066 fromm landline. Delivery within 28 days                                                                                                                    |1    |1.0       |\n",
            "|Congrats! 1 year special cinema pass for 2 is yours. call 09061209465 now! C Suprman V, Matrix3, StarWars3, etc all 4 FREE! bx420-ip4-5we. 150pm. Dont miss out!                                                             |1    |1.0       |\n",
            "|Dear 0776xxxxxxx U've been invited to XCHAT. This is our final attempt to contact u! Txt CHAT to 86688 150p/MsgrcvdHG/Suite342/2Lands/Row/W1J6HL LDN 18yrs                                                                   |1    |1.0       |\n",
            "|Dear sir, I am a Prince in a far kingdom you have not heard of.  I want to send you money via wire transfer so please ...                                                                                                    |1    |0.0       |\n",
            "|Do you want a New Nokia 3510i colour phone DeliveredTomorrow? With 300 free minutes to any mobile + 100 free texts + Free Camcorder reply or call 08000930705.                                                               |1    |1.0       |\n",
            "|Do you want a new Video phone? 600 anytime any network mins 400 Inclusive Video calls AND downloads 5 per week Free delTOMORROW call 08002888812 or reply NOW                                                                |1    |1.0       |\n",
            "|FREE MESSAGE Activate your 500 FREE Text Messages by replying to this message with the word FREE For terms & conditions, visit www.07781482378.com                                                                           |1    |1.0       |\n",
            "|GSOH? Good with SPAM the ladies?U could b a male gigolo? 2 join the uk's fastest growing mens club reply ONCALL. mjzgroup. 08714342399.2stop reply STOP. msg@√•¬£1.50rcvd                                                    |1    |0.0       |\n",
            "|Great NEW Offer - DOUBLE Mins & DOUBLE Txt on best Orange tariffs AND get latest camera phones 4 FREE! Call MobileUpd8 free on 08000839402 NOW! or 2stoptxt T&Cs                                                             |1    |1.0       |\n",
            "|Had your mobile 10 mths? Update to the latest Camera/Video phones for FREE. KEEP UR SAME NUMBER, Get extra free mins/texts. Text YES for a call                                                                              |1    |1.0       |\n",
            "|Had your mobile 11 months or more? U R entitled to Update to the latest colour mobiles with camera for Free! Call The Mobile Update Co FREE on 08002986030                                                                   |1    |1.0       |\n",
            "|How about getting in touch with folks waiting for company? Just txt back your NAME and AGE to opt in! Enjoy the community (150p/SMS)                                                                                         |1    |1.0       |\n",
            "|Loan for any purpose √•¬£500 - √•¬£75,000. Homeowners + Tenants welcome. Have you been previously refused? We can still help. Call Free 0800 1956669 or text back 'help'                                                     |1    |1.0       |\n",
            "|Loan for any purpose √•¬£500 - √•¬£75,000. Homeowners + Tenants welcome. Have you been previously refused? We can still help. Call Free 0800 1956669 or text back 'help'                                                     |1    |1.0       |\n",
            "|Natalie (20/F) is inviting you to be her friend. Reply YES-165 or NO-165 See her: www.SMS.ac/u/natalie2k9 STOP? Send STOP FRND to 62468                                                                                      |1    |1.0       |\n",
            "|No. 1 Nokia Tone 4 ur mob every week! Just txt NOK to 87021. 1st Tone FREE ! so get txtin now and tell ur friends. 150p/tone. 16 reply HL 4info                                                                              |1    |1.0       |\n",
            "|PRIVATE! Your 2003 Account Statement for <fone no> shows 800 un-redeemed S. I. M. points. Call 08715203656 Identifier Code: 42049 Expires 26/10/04                                                                           |1    |1.0       |\n",
            "|Promotion Number: 8714714 - UR awarded a City Break and could WIN a √•¬£200 Summer Shopping spree every WK. Txt STORE to 88039 . SkilGme. TsCs087147403231Winawk!Age16 √•¬£1.50perWKsub                                      |1    |1.0       |\n",
            "|RGENT! This is the 2nd attempt to contact U!U have WON √•¬£1250 CALL 09071512433 b4 050703 T&CsBCM4235WC1N3XX. callcost 150ppm mobilesvary. max√•¬£7. 50                                                                     |1    |1.0       |\n",
            "|Reply to win √•¬£100 weekly! Where will the 2006 FIFA World Cup be held? Send STOP to 87239 to end service                                                                                                                   |1    |1.0       |\n",
            "|SMS. ac sun0819 posts HELLO:\\You seem cool                                                                                                                                                                                   |1    |0.0       |\n",
            "|Santa calling! Would your little ones like a call from Santa Xmas Eve? Call 09077818151 to book you time. Calls1.50ppm last 3mins 30s T&C www.santacalling.com                                                               |1    |1.0       |\n",
            "|Sex up ur mobile with a FREE sexy pic of Jordan! Just text BABE to 88600. Then every wk get a sexy celeb! PocketBabe.co.uk 4 more pics. 16 √•¬£3/wk 087016248                                                                |1    |1.0       |\n",
            "|Thanks 4 your continued support Your question this week will enter u in2 our draw 4 √•¬£100 cash. Name the NEW US President? txt ans to 80082                                                                                |1    |1.0       |\n",
            "|Thanks for your ringtone order, ref number K718. Your mobile will be charged √•¬£4.50. Should your tone not arrive please call customer services on 09065069120                                                              |1    |1.0       |\n",
            "|URGENT! We are trying to contact U. Todays draw shows that you have won a √•¬£800 prize GUARANTEED. Call 09050003091 from land line. Claim C52. Valid12hrs only                                                              |1    |1.0       |\n",
            "|URGENT! Your Mobile No. was awarded √•¬£2000 Bonus Caller Prize on 5/9/03 This is our final try to contact U! Call from Landline 09064019788 BOX42WR29C, 150PPM                                                              |1    |1.0       |\n",
            "|We tried to contact you re your reply to our offer of a Video Handset? 750 anytime any networks mins? UNLIMITED TEXT? Camcorder? Reply or call 08000930705 NOW                                                               |1    |1.0       |\n",
            "|We tried to contact you re your reply to our offer of a Video Handset? 750 anytime networks mins? UNLIMITED TEXT? Camcorder? Reply or call 08000930705 NOW                                                                   |1    |1.0       |\n",
            "|Win the newest ‚Ä∞√õ√èHarry Potter and the Order of the Phoenix (Book 5) reply HARRY, answer 5 questions - chance to be the first among readers!                                                                             |1    |1.0       |\n",
            "|You are being contacted by our dating service by someone you know! To find out who it is, call from a land line 09050000878. PoBox45W2TG150P                                                                                 |1    |1.0       |\n",
            "|You have an important customer service announcement from PREMIER.                                                                                                                                                            |1    |0.0       |\n",
            "|You have an important customer service announcement. Call FREEPHONE 0800 542 0825 now!                                                                                                                                       |1    |1.0       |\n",
            "|You will be receiving this week's Triple Echo ringtone shortly. Enjoy it!                                                                                                                                                    |1    |0.0       |\n",
            "|cmon babe, make me horny, *turn* me on! Txt me your fantasy now babe -) Im hot, sticky and need you now. All replies cost √•¬£1.50. 2 cancel send STOP                                                                       |1    |0.0       |\n",
            "|10 min later k...                                                                                                                                                                                                            |0    |0.0       |\n",
            "|Aight yo, dats straight dogg                                                                                                                                                                                                 |0    |0.0       |\n",
            "|Aiyo... U always c our ex one... I dunno abt mei, she haven reply... First time u reply so fast... Y so lucky not workin huh, got bao by ur sugardad ah...gee..                                                              |0    |0.0       |\n",
            "|As per your request 'Melle Melle (Oru Minnaminunginte Nurungu Vettam)' has been set as your callertune for all Callers. Press *9 to copy your friends Callertune                                                             |0    |0.0       |\n",
            "|Cant think of anyone with * spare room off * top of my head                                                                                                                                                                  |0    |0.0       |\n",
            "|Coffee cake, i guess...                                                                                                                                                                                                      |0    |0.0       |\n",
            "|Cool, text me when you're parked                                                                                                                                                                                             |0    |0.0       |\n",
            "|En chikku nange bakra msg kalstiya..then had tea/coffee?                                                                                                                                                                     |0    |0.0       |\n",
            "|Good job yesterday!  I was attending your talk, and really enjoyed it.  I want to try out GraphX ...                                                                                                                         |0    |0.0       |\n",
            "|Gudnite....tc...practice going on                                                                                                                                                                                            |0    |0.0       |\n",
            "|Hey leave it. not a big deal:-) take care.                                                                                                                                                                                   |0    |0.0       |\n",
            "|Hey... Why dont we just go watch x men and have lunch... Haha                                                                                                                                                                |0    |0.0       |\n",
            "|I see the letter B on my car                                                                                                                                                                                                 |0    |0.0       |\n",
            "|I'm nt goin, got somethin on, unless they meetin 4 dinner lor... Haha, i wonder who will go tis time...                                                                                                                      |0    |0.0       |\n",
            "|Life is more strict than teacher... Bcoz Teacher teaches lesson &amp; then conducts exam, But Life first conducts Exam &amp; then teaches Lessons. Happy morning. . .                                                        |0    |0.0       |\n",
            "|Lolnice. I went from a fish to ..water.?                                                                                                                                                                                     |0    |0.0       |\n",
            "|Merry Christmas to you too babe, i love ya *kisses*                                                                                                                                                                          |0    |0.0       |\n",
            "|Mmm so yummy babe ... Nice jolt to the suzy                                                                                                                                                                                  |0    |0.0       |\n",
            "|Ok I'm gonna head up to usf in like fifteen minutes                                                                                                                                                                          |0    |0.0       |\n",
            "|Pls send me a comprehensive mail about who i'm paying, when and how much.                                                                                                                                                    |0    |0.0       |\n",
            "|S'fine. Anytime. All the best with it.                                                                                                                                                                                       |0    |0.0       |\n",
            "|Shall i come to get pickle                                                                                                                                                                                                   |0    |0.0       |\n",
            "|Sir, Waiting for your mail.                                                                                                                                                                                                  |0    |0.0       |\n",
            "|Thanks for yesterday sir. You have been wonderful. Hope you enjoyed the burial. MojiBiola                                                                                                                                    |0    |0.0       |\n",
            "|Then why no one talking to me                                                                                                                                                                                                |0    |0.0       |\n",
            "|U don't know how stubborn I am. I didn't even want to go to the hospital. I kept telling Mark I'm not a weak sucker. Hospitals are for weak suckers.                                                                         |0    |0.0       |\n",
            "|Watching cartoon, listening music &amp; at eve had to go temple &amp; church.. What about u?                                                                                                                                 |0    |0.0       |\n",
            "|When did you get to the library                                                                                                                                                                                              |0    |0.0       |\n",
            "|Will do. Was exhausted on train this morning. Too much wine and pie. You sleep well too                                                                                                                                      |0    |0.0       |\n",
            "|Ya srsly better than yi tho                                                                                                                                                                                                  |0    |0.0       |\n",
            "|Yes I started to send requests to make it but pain came back so I'm back in bed. Double coins at the factory too. I gotta cash in all my nitros.                                                                             |0    |0.0       |\n",
            "|You are always putting your business out there. You put pictures of your ass on facebook. You are one of the most open people i've ever met. Why would i think a picture of your room would hurt you, make you feel violated.|0    |0.0       |\n",
            "|Your brother is a genius                                                                                                                                                                                                     |0    |0.0       |\n",
            "+-----------------------------------------------------------------------------------------------------------------------------------------------------------------------------------------------------------------------------+-----+----------+\n",
            "only showing top 70 rows\n",
            "\n"
          ]
        }
      ],
      "source": [
        "# Train the model\n",
        "model = pipeline.fit(trainingData)\n",
        "# Make predictions on the test set\n",
        "predictions = model.transform(testData)\n",
        "# Evaluate the model\n",
        "evaluator = BinaryClassificationEvaluator(rawPredictionCol=\"rawPrediction\", labelCol=\"label\")\n",
        "accuracy = evaluator.evaluate(predictions)\n",
        "print(f\"Accuracy: {accuracy}\")\n",
        "# Print 70 records\n",
        "predictions.select(\"value\", \"label\", \"prediction\").show(70, truncate = False)"
      ]
    }
  ],
  "metadata": {
    "colab": {
      "provenance": []
    },
    "kernelspec": {
      "display_name": ".venv",
      "language": "python",
      "name": "python3"
    },
    "language_info": {
      "name": "python",
      "version": "3.9.6"
    }
  },
  "nbformat": 4,
  "nbformat_minor": 0
}
